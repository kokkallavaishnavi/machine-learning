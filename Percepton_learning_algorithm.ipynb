{
  "nbformat": 4,
  "nbformat_minor": 0,
  "metadata": {
    "colab": {
      "provenance": [],
      "authorship_tag": "ABX9TyNQnG1ik0vsFlLUkKsi235L",
      "include_colab_link": true
    },
    "kernelspec": {
      "name": "python3",
      "display_name": "Python 3"
    },
    "language_info": {
      "name": "python"
    }
  },
  "cells": [
    {
      "cell_type": "markdown",
      "metadata": {
        "id": "view-in-github",
        "colab_type": "text"
      },
      "source": [
        "<a href=\"https://colab.research.google.com/github/kokkallavaishnavi/machine-learning/blob/main/Multilayer_Perceptron.ipynb\" target=\"_parent\"><img src=\"https://colab.research.google.com/assets/colab-badge.svg\" alt=\"Open In Colab\"/></a>"
      ]
    },
    {
      "cell_type": "code",
      "execution_count": 10,
      "metadata": {
        "id": "2klVZBLolncu"
      },
      "outputs": [],
      "source": [
        "import numpy as np"
      ]
    },
    {
      "cell_type": "code",
      "source": [
        "#sample data points with lables\n",
        "X=np.array([[1,2],[0,0],[-1,-1],[-2,-3]])\n",
        "Y=np.array([1,0,1,0])"
      ],
      "metadata": {
        "id": "LxyB9zKWlyjB"
      },
      "execution_count": 11,
      "outputs": []
    },
    {
      "cell_type": "code",
      "source": [
        "learning_rate=0.1"
      ],
      "metadata": {
        "id": "fvwxL1z-mYz1"
      },
      "execution_count": 12,
      "outputs": []
    },
    {
      "cell_type": "code",
      "source": [
        "w=np.random.rand(2)"
      ],
      "metadata": {
        "id": "_LPkkr6Wmr2e"
      },
      "execution_count": 13,
      "outputs": []
    },
    {
      "cell_type": "code",
      "source": [
        "threshold=0"
      ],
      "metadata": {
        "id": "hajzE8Uqmz6f"
      },
      "execution_count": 14,
      "outputs": []
    },
    {
      "cell_type": "code",
      "source": [
        "for epoch in range(100):\n",
        "  for i in range(len(x)):\n",
        "    z=np.dot(x[i],w)+threshold\n",
        "    y=1 if z>0 else 0\n",
        "    error=Y[i]-y\n",
        "    w[0]-=learning_rate*error*X[i][0]\n",
        "    w[1]-=learning_rate*error*X[i][1]\n",
        "print(\"Final Weights:\",w)"
      ],
      "metadata": {
        "id": "jccvxSMTm4CK",
        "outputId": "a09bd9a1-e573-4d4f-d86d-2c1390526dab",
        "colab": {
          "base_uri": "https://localhost:8080/"
        }
      },
      "execution_count": 17,
      "outputs": [
        {
          "output_type": "stream",
          "name": "stdout",
          "text": [
            "Final Weights: [10.83007716 10.34076321]\n"
          ]
        }
      ]
    },
    {
      "cell_type": "code",
      "source": [
        "new_point=np.array([6,8])\n",
        "z=np.dot(new_point,w)+threshold\n",
        "y=1 if z>0 else 0\n",
        "print(\"prediction for new point\",y)"
      ],
      "metadata": {
        "id": "ZU0oA44roq7l",
        "outputId": "c985f2e3-c4ab-485c-d0be-8f28e4122d36",
        "colab": {
          "base_uri": "https://localhost:8080/"
        }
      },
      "execution_count": 20,
      "outputs": [
        {
          "output_type": "stream",
          "name": "stdout",
          "text": [
            "prediction for new point 1\n"
          ]
        }
      ]
    }
  ]
}
